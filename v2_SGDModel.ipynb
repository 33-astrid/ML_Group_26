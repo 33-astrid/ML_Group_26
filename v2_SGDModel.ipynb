{
 "cells": [
  {
   "cell_type": "code",
   "execution_count": 1,
   "id": "b09d4e92-2be9-474f-a126-956fd260b277",
   "metadata": {
    "tags": []
   },
   "outputs": [],
   "source": [
    "import numpy as np\n",
    "import pandas as pd\n",
    "import matplotlib.pyplot as plt"
   ]
  },
  {
   "cell_type": "code",
   "execution_count": 2,
   "id": "244ddd19-32a5-43dd-9f05-afbf16a84825",
   "metadata": {
    "tags": []
   },
   "outputs": [],
   "source": [
    "train_data = pd.read_csv('train_data_imputed.csv')\n",
    "\n",
    "test_data = pd.read_csv('test_data.csv')"
   ]
  },
  {
   "cell_type": "code",
   "execution_count": 3,
   "id": "9ce330b6-6cf7-4790-816f-e70be41d3848",
   "metadata": {
    "tags": []
   },
   "outputs": [],
   "source": [
    "# Operate on UserID\n",
    "train_data['UserID']=train_data['UserID'].str[1:].astype(float)"
   ]
  },
  {
   "cell_type": "code",
   "execution_count": 4,
   "id": "bdf879c1-0087-4ce7-a2a2-c6860985e342",
   "metadata": {
    "tags": []
   },
   "outputs": [
    {
     "name": "stdout",
     "output_type": "stream",
     "text": [
      "Mean Absolute Error on validation set: 161.42871597199374\n",
      "Feature: UserID, Importance: 0.29523568448330556\n",
      "Feature: QuestionTiming_binary, Importance: 0.0008537552214922872\n",
      "Feature: LastTaskCompletedEncoded, Importance: 0.39154696405879263\n",
      "Feature: CurrentTaskEncoded, Importance: 0.04641982928051566\n",
      "Feature: CurrentGameModeEncoded, Importance: 0.009068563899986067\n",
      "Feature: LevelProgressionAmount, Importance: 0.009202940555985913\n",
      "Feature: CurrentSessionLength, Importance: 0.24767226249992175\n"
     ]
    }
   ],
   "source": [
    "from sklearn.model_selection import train_test_split\n",
    "from sklearn.ensemble import GradientBoostingRegressor\n",
    "from sklearn.metrics import mean_absolute_error\n",
    "\n",
    "# Select the feature and target value\n",
    "features = ['UserID', 'QuestionTiming_binary', 'LastTaskCompletedEncoded', \n",
    "            'CurrentTaskEncoded', 'CurrentGameModeEncoded','LevelProgressionAmount','CurrentSessionLength']\n",
    "target = 'ResponseValue'\n",
    "\n",
    "X = train_data[features]\n",
    "y = train_data[target]\n",
    "\n",
    "# Split train and validation data\n",
    "X_train, X_val, y_train, y_val = train_test_split(X, y, test_size=0.2, random_state=42)\n",
    "\n",
    "# Initialize and train Gradient Boosting Regressor model\n",
    "model = GradientBoostingRegressor(n_estimators=100, learning_rate=0.1, max_depth=3, random_state=42)\n",
    "model.fit(X_train, y_train)\n",
    "\n",
    "# Predict on validation data\n",
    "y_pred = model.predict(X_val)\n",
    "\n",
    "# Calculate MAE\n",
    "mae = mean_absolute_error(y_val, y_pred)\n",
    "print(f'Mean Absolute Error on validation set: {mae}')\n",
    "\n",
    "# Print the feature importance\n",
    "feature_importances = model.feature_importances_\n",
    "for feature, importance in zip(features, feature_importances):\n",
    "    print(f'Feature: {feature}, Importance: {importance}')"
   ]
  },
  {
   "cell_type": "code",
   "execution_count": null,
   "id": "e8a5dbb1-6670-4f82-af77-d6d7a0f9056d",
   "metadata": {},
   "outputs": [],
   "source": []
  },
  {
   "cell_type": "code",
   "execution_count": 5,
   "id": "25d3b2ef-5e59-4d49-a9bd-8355ca2d425c",
   "metadata": {
    "tags": []
   },
   "outputs": [
    {
     "name": "stdout",
     "output_type": "stream",
     "text": [
      "Mean Absolute Error on validation set: 165.72552356205136\n",
      "Feature: UserID, Importance: 0.47473384301884725\n",
      "Feature: QuestionTiming_binary, Importance: 0.014189967696993572\n",
      "Feature: LastTaskCompletedEncoded, Importance: 0.3005001392426165\n",
      "Feature: CurrentTaskEncoded, Importance: 0.18585125745099265\n",
      "Feature: CurrentGameModeEncoded, Importance: 0.02472479259055004\n"
     ]
    }
   ],
   "source": [
    "from sklearn.model_selection import train_test_split\n",
    "from sklearn.ensemble import GradientBoostingRegressor\n",
    "from sklearn.metrics import mean_absolute_error\n",
    "\n",
    "\n",
    "# Select the features and target variable\n",
    "features = ['UserID', 'QuestionTiming_binary', 'LastTaskCompletedEncoded', \n",
    "            'CurrentTaskEncoded', 'CurrentGameModeEncoded']\n",
    "target = 'ResponseValue'\n",
    "\n",
    "X = train_data[features]\n",
    "y = train_data[target]\n",
    "\n",
    "# Split train and validation data\n",
    "X_train, X_val, y_train, y_val = train_test_split(X, y, test_size=0.2, random_state=42)\n",
    "\n",
    "# Initialize and train the Gradient Boosting Regressor model\n",
    "model = GradientBoostingRegressor(n_estimators=100, learning_rate=0.1, max_depth=3, random_state=42)\n",
    "model.fit(X_train, y_train)\n",
    "\n",
    "# Predict on validation data\n",
    "y_pred = model.predict(X_val)\n",
    "\n",
    "# Calculate MAE\n",
    "mae = mean_absolute_error(y_val, y_pred)\n",
    "print(f'Mean Absolute Error on validation set: {mae}')\n",
    "\n",
    "# Print feature importance\n",
    "feature_importances = model.feature_importances_\n",
    "for feature, importance in zip(features, feature_importances):\n",
    "    print(f'Feature: {feature}, Importance: {importance}')"
   ]
  },
  {
   "cell_type": "code",
   "execution_count": null,
   "id": "ba5ab699-d95a-442c-b5b9-a976cec436b7",
   "metadata": {},
   "outputs": [],
   "source": []
  },
  {
   "cell_type": "code",
   "execution_count": 6,
   "id": "0dab800e-2a11-4d74-8821-c519b60aabfc",
   "metadata": {
    "tags": []
   },
   "outputs": [
    {
     "name": "stdout",
     "output_type": "stream",
     "text": [
      "Mean Absolute Error on validation set: 166.6193408715848\n",
      "Feature: UserID, Importance: 0.5958701000424266\n",
      "Feature: QuestionTiming_binary, Importance: 0.003427560500501896\n",
      "Feature: CurrentGameModeEncoded, Importance: 0.015246607889255656\n",
      "Feature: CurrentSessionLength, Importance: 0.38545573156781593\n"
     ]
    }
   ],
   "source": [
    "from sklearn.model_selection import train_test_split, GridSearchCV\n",
    "from sklearn.ensemble import GradientBoostingRegressor\n",
    "from sklearn.metrics import mean_absolute_error\n",
    "\n",
    "\n",
    "# Select the features and target variable\n",
    "features = ['UserID', 'QuestionTiming_binary', 'CurrentGameModeEncoded','CurrentSessionLength']\n",
    "target = 'ResponseValue'\n",
    "\n",
    "X = train_data[features]\n",
    "y = train_data[target]\n",
    "\n",
    "# Split the train and validation data\n",
    "X_train, X_val, y_train, y_val = train_test_split(X, y, test_size=0.2, random_state=42)\n",
    "\n",
    "# Initialize and train Gradient Boosting Regressor model\n",
    "model = GradientBoostingRegressor(n_estimators=100, learning_rate=0.1, max_depth=3, random_state=42)\n",
    "model.fit(X_train, y_train)\n",
    "\n",
    "# Predict on validation set\n",
    "y_pred = model.predict(X_val)\n",
    "\n",
    "# Calculate MAE\n",
    "mae = mean_absolute_error(y_val, y_pred)\n",
    "print(f'Mean Absolute Error on validation set: {mae}')\n",
    "\n",
    "# Print feature importance\n",
    "feature_importances = model.feature_importances_\n",
    "for feature, importance in zip(features, feature_importances):\n",
    "    print(f'Feature: {feature}, Importance: {importance}')"
   ]
  },
  {
   "cell_type": "code",
   "execution_count": null,
   "id": "22e1c94f-2117-4ac5-bed0-366c4f85c5f9",
   "metadata": {},
   "outputs": [],
   "source": []
  },
  {
   "cell_type": "code",
   "execution_count": 7,
   "id": "c86fd6ee-547c-439e-a70f-4fac464ca0f3",
   "metadata": {
    "tags": []
   },
   "outputs": [
    {
     "name": "stdout",
     "output_type": "stream",
     "text": [
      "Mean Absolute Error on validation set: 166.6193408715848\n",
      "Fitting 3 folds for each of 243 candidates, totalling 729 fits\n",
      "Best parameters found: {'learning_rate': 0.1, 'max_depth': 5, 'min_samples_leaf': 1, 'min_samples_split': 2, 'n_estimators': 300}\n",
      "Mean Absolute Error on validation set with best parameters: 149.02215704945667\n"
     ]
    }
   ],
   "source": [
    "# Initialize Gradient Boosting Regressor model\n",
    "gbr = GradientBoostingRegressor(random_state=42)\n",
    "\n",
    "# fit the model\n",
    "gbr.fit(X_train, y_train)\n",
    "\n",
    "# Predict on validation data\n",
    "y_pred = gbr.predict(X_val)\n",
    "\n",
    "# Calculate MAE\n",
    "mae = mean_absolute_error(y_val, y_pred)\n",
    "print(f'Mean Absolute Error on validation set: {mae}')\n",
    "\n",
    "# Define the parameters of grid\n",
    "param_grid = {\n",
    "    'n_estimators': [100, 200, 300],\n",
    "    'learning_rate': [0.01, 0.05, 0.1],\n",
    "    'max_depth': [3, 4, 5],\n",
    "    'min_samples_split': [2, 5, 10],\n",
    "    'min_samples_leaf': [1, 2, 4]\n",
    "}\n",
    "\n",
    "# Initialize GridSearchCV\n",
    "grid_search = GridSearchCV(estimator=gbr, param_grid=param_grid, cv=3, scoring='neg_mean_absolute_error', n_jobs=-1, verbose=2)\n",
    "\n",
    "# Fit the GridSearch\n",
    "grid_search.fit(X_train, y_train)\n",
    "\n",
    "# Print the best parameters\n",
    "print(f'Best parameters found: {grid_search.best_params_}')\n",
    "\n",
    "# Fit the model with the best parameters\n",
    "best_gbr = grid_search.best_estimator_\n",
    "\n",
    "# Predict on validation data\n",
    "y_pred_best = best_gbr.predict(X_val)\n",
    "\n",
    "# Calculate MAE\n",
    "mae_best = mean_absolute_error(y_val, y_pred_best)\n",
    "print(f'Mean Absolute Error on validation set with best parameters: {mae_best}')\n"
   ]
  }
 ],
 "metadata": {
  "kernelspec": {
   "display_name": "Python 3 (ipykernel)",
   "language": "python",
   "name": "python3"
  },
  "language_info": {
   "codemirror_mode": {
    "name": "ipython",
    "version": 3
   },
   "file_extension": ".py",
   "mimetype": "text/x-python",
   "name": "python",
   "nbconvert_exporter": "python",
   "pygments_lexer": "ipython3",
   "version": "3.11.4"
  }
 },
 "nbformat": 4,
 "nbformat_minor": 5
}
